{
 "cells": [
  {
   "cell_type": "code",
   "execution_count": 1,
   "id": "fc7efa54",
   "metadata": {},
   "outputs": [],
   "source": [
    "import os\n",
    "import pandas as pd\n",
    "import numpy as np\n",
    "\n",
    "from sqlalchemy import create_engine"
   ]
  },
  {
   "cell_type": "code",
   "execution_count": 2,
   "id": "0017f8e7",
   "metadata": {},
   "outputs": [],
   "source": [
    "path_to_db_local = 'telecomm_csi.db'\n",
    "path_to_db_platform = '/datasets/telecomm_csi.db'\n",
    "path_to_db = None\n",
    "\n",
    "if os.path.exists(path_to_db_local):\n",
    "    path_to_db = path_to_db_local\n",
    "elif os.path.exists(path_to_db_platform):\n",
    "    path_to_db = path_to_db_platform\n",
    "else:\n",
    "    raise Exception('Файл с базой данных SQLite не найден!')\n",
    "\n",
    "if path_to_db:\n",
    "    engine = create_engine(f'sqlite:///{path_to_db}', echo=False)"
   ]
  },
  {
   "cell_type": "code",
   "execution_count": 3,
   "id": "84ebad43",
   "metadata": {},
   "outputs": [],
   "source": [
    "query = \"\"\"\n",
    "WITH\n",
    "u AS (SELECT *,\n",
    "             CASE\n",
    "                  WHEN lt_day <= 365 THEN 'новый'\n",
    "                  WHEN lt_day > 365 THEN 'старый'\n",
    "             END AS is_new,\n",
    "             CASE \n",
    "                  WHEN nps_score >= 0 AND nps_score <= 6 THEN 'критик'\n",
    "                  WHEN nps_score >= 7 AND nps_score <= 8 THEN 'нейтрал'\n",
    "                  WHEN nps_score >= 9 AND nps_score <= 10 THEN 'сторонник'\n",
    "             END AS nps_group,\n",
    "             CASE\n",
    "                  WHEN gender_segment = 1 THEN 'жен'\n",
    "                  WHEN gender_segment = 0 THEN 'муж'\n",
    "                  ELSE 'неопределённый'\n",
    "             END as gender\n",
    "     FROM user),      \n",
    "loc AS (SELECT *\n",
    "        FROM location),\n",
    "a AS (SELECT age_gr_id,\n",
    "             title\n",
    "      FROM age_segment),\n",
    "t AS (SELECT tr_gr_id,\n",
    "             title\n",
    "      FROM traffic_segment),\n",
    "l AS (SELECT lt_gr_id,\n",
    "             title\n",
    "      FROM lifetime_segment)\n",
    "SELECT u.user_id,\n",
    "       u.lt_day,\n",
    "       u.is_new,\n",
    "       u.age,\n",
    "       u.gender,\n",
    "       u.os_name,\n",
    "       u.cpe_type_name,\n",
    "       u.nps_score,\n",
    "       u.nps_group,\n",
    "       loc.country,\n",
    "       loc.city,\n",
    "       SUBSTRING(a.title, 4) AS age_segment,\n",
    "       SUBSTRING(t.title, 4) AS traffic_segment,\n",
    "       SUBSTRING(l.title, 4) AS lifetime_segment\n",
    "FROM u LEFT JOIN loc ON u.location_id=loc.location_id\n",
    "LEFT JOIN a ON u.age_gr_id=a.age_gr_id\n",
    "LEFT JOIN t ON u.tr_gr_id=t.tr_gr_id\n",
    "LEFT JOIN l ON u.lt_gr_id=l.lt_gr_id;            \n",
    "\"\"\""
   ]
  },
  {
   "cell_type": "code",
   "execution_count": 4,
   "id": "3965faf2",
   "metadata": {},
   "outputs": [
    {
     "data": {
      "text/html": [
       "<div>\n",
       "<style scoped>\n",
       "    .dataframe tbody tr th:only-of-type {\n",
       "        vertical-align: middle;\n",
       "    }\n",
       "\n",
       "    .dataframe tbody tr th {\n",
       "        vertical-align: top;\n",
       "    }\n",
       "\n",
       "    .dataframe thead th {\n",
       "        text-align: right;\n",
       "    }\n",
       "</style>\n",
       "<table border=\"1\" class=\"dataframe\">\n",
       "  <thead>\n",
       "    <tr style=\"text-align: right;\">\n",
       "      <th></th>\n",
       "      <th>user_id</th>\n",
       "      <th>lt_day</th>\n",
       "      <th>is_new</th>\n",
       "      <th>age</th>\n",
       "      <th>gender</th>\n",
       "      <th>os_name</th>\n",
       "      <th>cpe_type_name</th>\n",
       "      <th>nps_score</th>\n",
       "      <th>nps_group</th>\n",
       "      <th>country</th>\n",
       "      <th>city</th>\n",
       "      <th>age_segment</th>\n",
       "      <th>traffic_segment</th>\n",
       "      <th>lifetime_segment</th>\n",
       "    </tr>\n",
       "  </thead>\n",
       "  <tbody>\n",
       "    <tr>\n",
       "      <th>0</th>\n",
       "      <td>A001A2</td>\n",
       "      <td>2320</td>\n",
       "      <td>старый</td>\n",
       "      <td>45.0</td>\n",
       "      <td>жен</td>\n",
       "      <td>ANDROID</td>\n",
       "      <td>SMARTPHONE</td>\n",
       "      <td>10</td>\n",
       "      <td>сторонник</td>\n",
       "      <td>Россия</td>\n",
       "      <td>Уфа</td>\n",
       "      <td>45-54</td>\n",
       "      <td>1-5</td>\n",
       "      <td>36+</td>\n",
       "    </tr>\n",
       "    <tr>\n",
       "      <th>1</th>\n",
       "      <td>A001WF</td>\n",
       "      <td>2344</td>\n",
       "      <td>старый</td>\n",
       "      <td>53.0</td>\n",
       "      <td>муж</td>\n",
       "      <td>ANDROID</td>\n",
       "      <td>SMARTPHONE</td>\n",
       "      <td>10</td>\n",
       "      <td>сторонник</td>\n",
       "      <td>Россия</td>\n",
       "      <td>Киров</td>\n",
       "      <td>45-54</td>\n",
       "      <td>1-5</td>\n",
       "      <td>36+</td>\n",
       "    </tr>\n",
       "    <tr>\n",
       "      <th>2</th>\n",
       "      <td>A003Q7</td>\n",
       "      <td>467</td>\n",
       "      <td>старый</td>\n",
       "      <td>57.0</td>\n",
       "      <td>муж</td>\n",
       "      <td>ANDROID</td>\n",
       "      <td>SMARTPHONE</td>\n",
       "      <td>10</td>\n",
       "      <td>сторонник</td>\n",
       "      <td>Россия</td>\n",
       "      <td>Москва</td>\n",
       "      <td>55-64</td>\n",
       "      <td>20-25</td>\n",
       "      <td>13-24</td>\n",
       "    </tr>\n",
       "  </tbody>\n",
       "</table>\n",
       "</div>"
      ],
      "text/plain": [
       "  user_id  lt_day  is_new   age gender  os_name cpe_type_name  nps_score  \\\n",
       "0  A001A2    2320  старый  45.0    жен  ANDROID    SMARTPHONE         10   \n",
       "1  A001WF    2344  старый  53.0    муж  ANDROID    SMARTPHONE         10   \n",
       "2  A003Q7     467  старый  57.0    муж  ANDROID    SMARTPHONE         10   \n",
       "\n",
       "   nps_group country    city age_segment traffic_segment lifetime_segment  \n",
       "0  сторонник  Россия     Уфа       45-54             1-5              36+  \n",
       "1  сторонник  Россия   Киров       45-54             1-5              36+  \n",
       "2  сторонник  Россия  Москва       55-64           20-25            13-24  "
      ]
     },
     "execution_count": 4,
     "metadata": {},
     "output_type": "execute_result"
    }
   ],
   "source": [
    "df = pd.read_sql(query, engine)\n",
    "df.head(3)"
   ]
  },
  {
   "cell_type": "code",
   "execution_count": 5,
   "id": "9db04858",
   "metadata": {},
   "outputs": [],
   "source": [
    "df.to_csv('telecomm_csi_tableau.csv', index=False)"
   ]
  },
  {
   "cell_type": "markdown",
   "id": "851e0e00",
   "metadata": {},
   "source": [
    "**Дашборды:**"
   ]
  },
  {
   "cell_type": "markdown",
   "id": "c0fecc8b",
   "metadata": {},
   "source": [
    "https://public.tableau.com/views/Project_telecommunication_Khudyakov/Project_telecommunication_khudyakov?:language=en-US&publish=yes&:sid=&:display_count=n&:origin=viz_share_link"
   ]
  }
 ],
 "metadata": {
  "ExecuteTimeLog": [
   {
    "duration": 569,
    "start_time": "2024-04-24T13:52:14.637Z"
   },
   {
    "duration": 74,
    "start_time": "2024-04-24T13:52:25.697Z"
   },
   {
    "duration": 4,
    "start_time": "2024-04-24T13:52:30.613Z"
   },
   {
    "duration": 671,
    "start_time": "2024-04-24T13:52:35.379Z"
   },
   {
    "duration": 532,
    "start_time": "2024-04-24T13:53:51.448Z"
   },
   {
    "duration": 58,
    "start_time": "2024-04-24T13:53:53.535Z"
   },
   {
    "duration": 4,
    "start_time": "2024-04-24T13:53:55.971Z"
   },
   {
    "duration": 5770,
    "start_time": "2024-04-24T13:53:57.792Z"
   },
   {
    "duration": 570,
    "start_time": "2024-04-24T14:09:28.507Z"
   },
   {
    "duration": 64,
    "start_time": "2024-04-24T14:09:29.079Z"
   },
   {
    "duration": 3,
    "start_time": "2024-04-24T14:09:29.145Z"
   },
   {
    "duration": 5684,
    "start_time": "2024-04-24T14:09:29.150Z"
   },
   {
    "duration": 5233,
    "start_time": "2024-04-24T14:09:34.837Z"
   },
   {
    "duration": 551,
    "start_time": "2024-04-24T14:18:11.487Z"
   },
   {
    "duration": 61,
    "start_time": "2024-04-24T14:18:12.041Z"
   },
   {
    "duration": 4,
    "start_time": "2024-04-24T14:18:12.103Z"
   },
   {
    "duration": 5740,
    "start_time": "2024-04-24T14:18:12.109Z"
   },
   {
    "duration": 4860,
    "start_time": "2024-04-24T14:18:17.852Z"
   },
   {
    "duration": 415,
    "start_time": "2024-04-24T22:53:22.257Z"
   },
   {
    "duration": 10,
    "start_time": "2024-04-24T22:53:22.673Z"
   },
   {
    "duration": 4,
    "start_time": "2024-04-24T22:53:22.684Z"
   },
   {
    "duration": 4633,
    "start_time": "2024-04-24T22:53:22.689Z"
   },
   {
    "duration": 3142,
    "start_time": "2024-04-24T22:53:27.323Z"
   },
   {
    "duration": 435,
    "start_time": "2024-04-24T22:53:30.467Z"
   },
   {
    "duration": 407,
    "start_time": "2024-04-24T23:19:03.754Z"
   },
   {
    "duration": 9,
    "start_time": "2024-04-24T23:19:04.162Z"
   },
   {
    "duration": 63,
    "start_time": "2024-04-24T23:19:04.172Z"
   },
   {
    "duration": 4837,
    "start_time": "2024-04-24T23:19:04.236Z"
   },
   {
    "duration": 3420,
    "start_time": "2024-04-24T23:19:09.074Z"
   },
   {
    "duration": 525,
    "start_time": "2024-04-25T12:02:40.998Z"
   },
   {
    "duration": 79,
    "start_time": "2024-04-25T12:02:41.525Z"
   },
   {
    "duration": 3,
    "start_time": "2024-04-25T12:02:41.606Z"
   },
   {
    "duration": 5778,
    "start_time": "2024-04-25T12:02:41.611Z"
   },
   {
    "duration": 4173,
    "start_time": "2024-04-25T12:02:47.391Z"
   },
   {
    "duration": 533,
    "start_time": "2024-04-25T16:51:01.478Z"
   },
   {
    "duration": 15,
    "start_time": "2024-04-25T16:51:02.013Z"
   },
   {
    "duration": 9,
    "start_time": "2024-04-25T16:51:02.030Z"
   },
   {
    "duration": 5516,
    "start_time": "2024-04-25T16:51:02.040Z"
   },
   {
    "duration": 4546,
    "start_time": "2024-04-25T16:51:07.558Z"
   },
   {
    "duration": 508,
    "start_time": "2024-04-25T17:23:08.133Z"
   },
   {
    "duration": 9,
    "start_time": "2024-04-25T17:23:08.643Z"
   },
   {
    "duration": 3,
    "start_time": "2024-04-25T17:23:08.653Z"
   },
   {
    "duration": 5634,
    "start_time": "2024-04-25T17:23:08.658Z"
   },
   {
    "duration": 4145,
    "start_time": "2024-04-25T17:23:14.294Z"
   }
  ],
  "kernelspec": {
   "display_name": "Python 3 (ipykernel)",
   "language": "python",
   "name": "python3"
  },
  "language_info": {
   "codemirror_mode": {
    "name": "ipython",
    "version": 3
   },
   "file_extension": ".py",
   "mimetype": "text/x-python",
   "name": "python",
   "nbconvert_exporter": "python",
   "pygments_lexer": "ipython3",
   "version": "3.9.5"
  },
  "toc": {
   "base_numbering": 1,
   "nav_menu": {},
   "number_sections": true,
   "sideBar": true,
   "skip_h1_title": true,
   "title_cell": "Table of Contents",
   "title_sidebar": "Contents",
   "toc_cell": false,
   "toc_position": {},
   "toc_section_display": true,
   "toc_window_display": false
  }
 },
 "nbformat": 4,
 "nbformat_minor": 5
}
